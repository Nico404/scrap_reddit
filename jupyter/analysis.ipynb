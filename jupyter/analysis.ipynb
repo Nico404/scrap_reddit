{
 "cells": [
  {
   "cell_type": "markdown",
   "metadata": {},
   "source": [
    "# A glimpse into TA..."
   ]
  },
  {
   "cell_type": "markdown",
   "metadata": {},
   "source": [
    "### Let's check out our data and clean it up"
   ]
  },
  {
   "cell_type": "code",
   "execution_count": 37,
   "metadata": {},
   "outputs": [],
   "source": [
    "import pandas\n",
    "pandas.set_option(\"display.max_colwidth\", 50)\n"
   ]
  },
  {
   "cell_type": "code",
   "execution_count": 41,
   "metadata": {},
   "outputs": [
    {
     "data": {
      "text/html": [
       "<div>\n",
       "<style scoped>\n",
       "    .dataframe tbody tr th:only-of-type {\n",
       "        vertical-align: middle;\n",
       "    }\n",
       "\n",
       "    .dataframe tbody tr th {\n",
       "        vertical-align: top;\n",
       "    }\n",
       "\n",
       "    .dataframe thead th {\n",
       "        text-align: right;\n",
       "    }\n",
       "</style>\n",
       "<table border=\"1\" class=\"dataframe\">\n",
       "  <thead>\n",
       "    <tr style=\"text-align: right;\">\n",
       "      <th></th>\n",
       "      <th>post_id</th>\n",
       "      <th>post_title</th>\n",
       "      <th>num_comments</th>\n",
       "      <th>post_content</th>\n",
       "      <th>post_url</th>\n",
       "    </tr>\n",
       "  </thead>\n",
       "  <tbody>\n",
       "    <tr>\n",
       "      <th>0</th>\n",
       "      <td>10p0glu</td>\n",
       "      <td>AITA for saying my mother is insensitive for c...</td>\n",
       "      <td>1054</td>\n",
       "      <td>I’m 21F, recently welcomed my own child into t...</td>\n",
       "      <td>https://www.reddit.com/r/AmItheAsshole/comment...</td>\n",
       "    </tr>\n",
       "    <tr>\n",
       "      <th>1</th>\n",
       "      <td>10p55w6</td>\n",
       "      <td>AITA for having my adult daughter pay half of ...</td>\n",
       "      <td>495</td>\n",
       "      <td>I [52F] am having my adult daughter [25F] pay ...</td>\n",
       "      <td>https://www.reddit.com/r/AmItheAsshole/comment...</td>\n",
       "    </tr>\n",
       "    <tr>\n",
       "      <th>2</th>\n",
       "      <td>10pgsmn</td>\n",
       "      <td>AITA for having an 18+ house?</td>\n",
       "      <td>472</td>\n",
       "      <td>My (32f) and my husband (30m) are childfree by...</td>\n",
       "      <td>https://www.reddit.com/r/AmItheAsshole/comment...</td>\n",
       "    </tr>\n",
       "    <tr>\n",
       "      <th>3</th>\n",
       "      <td>10ovk6p</td>\n",
       "      <td>AITA for refusing to take a DNA test to confir...</td>\n",
       "      <td>1366</td>\n",
       "      <td>So my (27M) fiancé (26F) is adopted. She was a...</td>\n",
       "      <td>https://www.reddit.com/r/AmItheAsshole/comment...</td>\n",
       "    </tr>\n",
       "    <tr>\n",
       "      <th>4</th>\n",
       "      <td>10p9z0a</td>\n",
       "      <td>AITA for telling my soon to be SIL that I didn...</td>\n",
       "      <td>109</td>\n",
       "      <td>My brother is getting married in May. My broth...</td>\n",
       "      <td>https://www.reddit.com/r/AmItheAsshole/comment...</td>\n",
       "    </tr>\n",
       "  </tbody>\n",
       "</table>\n",
       "</div>"
      ],
      "text/plain": [
       "   post_id                                         post_title  num_comments  \\\n",
       "0  10p0glu  AITA for saying my mother is insensitive for c...          1054   \n",
       "1  10p55w6  AITA for having my adult daughter pay half of ...           495   \n",
       "2  10pgsmn                      AITA for having an 18+ house?           472   \n",
       "3  10ovk6p  AITA for refusing to take a DNA test to confir...          1366   \n",
       "4  10p9z0a  AITA for telling my soon to be SIL that I didn...           109   \n",
       "\n",
       "                                        post_content  \\\n",
       "0  I’m 21F, recently welcomed my own child into t...   \n",
       "1  I [52F] am having my adult daughter [25F] pay ...   \n",
       "2  My (32f) and my husband (30m) are childfree by...   \n",
       "3  So my (27M) fiancé (26F) is adopted. She was a...   \n",
       "4  My brother is getting married in May. My broth...   \n",
       "\n",
       "                                            post_url  \n",
       "0  https://www.reddit.com/r/AmItheAsshole/comment...  \n",
       "1  https://www.reddit.com/r/AmItheAsshole/comment...  \n",
       "2  https://www.reddit.com/r/AmItheAsshole/comment...  \n",
       "3  https://www.reddit.com/r/AmItheAsshole/comment...  \n",
       "4  https://www.reddit.com/r/AmItheAsshole/comment...  "
      ]
     },
     "execution_count": 41,
     "metadata": {},
     "output_type": "execute_result"
    }
   ],
   "source": [
    "posts = pandas.read_csv('../data/posts_v2_2.csv', names=['post_id', 'post_title', 'num_comments', 'post_content', 'post_url'])\n",
    "posts.head()"
   ]
  },
  {
   "cell_type": "code",
   "execution_count": 51,
   "metadata": {},
   "outputs": [
    {
     "name": "stdout",
     "output_type": "stream",
     "text": [
      "unique row number: 3144\n"
     ]
    }
   ],
   "source": [
    "posts.drop_duplicates(keep = 'first', inplace=True)\n",
    "post_row_count = posts.shape[0] # returns nb of lines\n",
    "print(\"unique row number:\", post_row_count) \n"
   ]
  },
  {
   "cell_type": "code",
   "execution_count": 50,
   "metadata": {},
   "outputs": [
    {
     "data": {
      "text/html": [
       "<div>\n",
       "<style scoped>\n",
       "    .dataframe tbody tr th:only-of-type {\n",
       "        vertical-align: middle;\n",
       "    }\n",
       "\n",
       "    .dataframe tbody tr th {\n",
       "        vertical-align: top;\n",
       "    }\n",
       "\n",
       "    .dataframe thead th {\n",
       "        text-align: right;\n",
       "    }\n",
       "</style>\n",
       "<table border=\"1\" class=\"dataframe\">\n",
       "  <thead>\n",
       "    <tr style=\"text-align: right;\">\n",
       "      <th></th>\n",
       "      <th>post_id</th>\n",
       "      <th>comment_id</th>\n",
       "      <th>comment_score</th>\n",
       "      <th>comment_content</th>\n",
       "      <th>comment_permalink</th>\n",
       "    </tr>\n",
       "  </thead>\n",
       "  <tbody>\n",
       "    <tr>\n",
       "      <th>0</th>\n",
       "      <td>t3_10p0glu</td>\n",
       "      <td>j6hpif3</td>\n",
       "      <td>9787</td>\n",
       "      <td>YTA  &amp;gt;I know it wasn’t her job to forgive h...</td>\n",
       "      <td>/r/AmItheAsshole/comments/10p0glu/aita_for_say...</td>\n",
       "    </tr>\n",
       "    <tr>\n",
       "      <th>1</th>\n",
       "      <td>t3_10p0glu</td>\n",
       "      <td>j6hpzqy</td>\n",
       "      <td>3137</td>\n",
       "      <td>YTA. Your father abused her. Also, who are you...</td>\n",
       "      <td>/r/AmItheAsshole/comments/10p0glu/aita_for_say...</td>\n",
       "    </tr>\n",
       "    <tr>\n",
       "      <th>2</th>\n",
       "      <td>t3_10p0glu</td>\n",
       "      <td>j6hpkvv</td>\n",
       "      <td>1972</td>\n",
       "      <td>YTA. Your dad was abusive to your mother.   Of...</td>\n",
       "      <td>/r/AmItheAsshole/comments/10p0glu/aita_for_say...</td>\n",
       "    </tr>\n",
       "    <tr>\n",
       "      <th>3</th>\n",
       "      <td>t3_10p0glu</td>\n",
       "      <td>j6hqzyp</td>\n",
       "      <td>1295</td>\n",
       "      <td>Yta so you acknowledge that your dad was abusi...</td>\n",
       "      <td>/r/AmItheAsshole/comments/10p0glu/aita_for_say...</td>\n",
       "    </tr>\n",
       "    <tr>\n",
       "      <th>4</th>\n",
       "      <td>t3_10p0glu</td>\n",
       "      <td>j6hploi</td>\n",
       "      <td>585</td>\n",
       "      <td>YTA   Your dad sounded like an AH. It's unders...</td>\n",
       "      <td>/r/AmItheAsshole/comments/10p0glu/aita_for_say...</td>\n",
       "    </tr>\n",
       "  </tbody>\n",
       "</table>\n",
       "</div>"
      ],
      "text/plain": [
       "      post_id comment_id  comment_score  \\\n",
       "0  t3_10p0glu    j6hpif3           9787   \n",
       "1  t3_10p0glu    j6hpzqy           3137   \n",
       "2  t3_10p0glu    j6hpkvv           1972   \n",
       "3  t3_10p0glu    j6hqzyp           1295   \n",
       "4  t3_10p0glu    j6hploi            585   \n",
       "\n",
       "                                     comment_content  \\\n",
       "0  YTA  &gt;I know it wasn’t her job to forgive h...   \n",
       "1  YTA. Your father abused her. Also, who are you...   \n",
       "2  YTA. Your dad was abusive to your mother.   Of...   \n",
       "3  Yta so you acknowledge that your dad was abusi...   \n",
       "4  YTA   Your dad sounded like an AH. It's unders...   \n",
       "\n",
       "                                   comment_permalink  \n",
       "0  /r/AmItheAsshole/comments/10p0glu/aita_for_say...  \n",
       "1  /r/AmItheAsshole/comments/10p0glu/aita_for_say...  \n",
       "2  /r/AmItheAsshole/comments/10p0glu/aita_for_say...  \n",
       "3  /r/AmItheAsshole/comments/10p0glu/aita_for_say...  \n",
       "4  /r/AmItheAsshole/comments/10p0glu/aita_for_say...  "
      ]
     },
     "execution_count": 50,
     "metadata": {},
     "output_type": "execute_result"
    }
   ],
   "source": [
    "\n",
    "comments = pandas.read_csv('../data/comments_v2_2.csv', names=['post_id', 'comment_id', 'comment_score', 'comment_content', 'comment_permalink'])\n",
    "comments.head()\n"
   ]
  },
  {
   "cell_type": "code",
   "execution_count": 52,
   "metadata": {},
   "outputs": [
    {
     "name": "stdout",
     "output_type": "stream",
     "text": [
      "unique row number: 66903\n"
     ]
    }
   ],
   "source": [
    "comments.drop_duplicates(keep = 'first', inplace=True)\n",
    "comment_row_count = comments.shape[0] # returns nb of lines\n",
    "print(\"unique row number:\", comment_row_count) \n"
   ]
  },
  {
   "cell_type": "code",
   "execution_count": 53,
   "metadata": {},
   "outputs": [
    {
     "name": "stdout",
     "output_type": "stream",
     "text": [
      "average comment per post: 21.279580152671755\n"
     ]
    }
   ],
   "source": [
    "print(\"average comment per post:\", comment_row_count / post_row_count)"
   ]
  }
 ],
 "metadata": {
  "kernelspec": {
   "display_name": "Python 3 (ipykernel)",
   "language": "python",
   "name": "python3"
  },
  "language_info": {
   "codemirror_mode": {
    "name": "ipython",
    "version": 3
   },
   "file_extension": ".py",
   "mimetype": "text/x-python",
   "name": "python",
   "nbconvert_exporter": "python",
   "pygments_lexer": "ipython3",
   "version": "3.9.7"
  },
  "vscode": {
   "interpreter": {
    "hash": "e4530e3f7a479c29f561e0bf57c489d52367e70e1e013d439943acccd42ec1e9"
   }
  }
 },
 "nbformat": 4,
 "nbformat_minor": 2
}
