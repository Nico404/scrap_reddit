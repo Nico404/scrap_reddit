{
 "cells": [
  {
   "cell_type": "markdown",
   "metadata": {},
   "source": [
    "# A glimpse into TA..."
   ]
  },
  {
   "cell_type": "markdown",
   "metadata": {},
   "source": [
    "### Let's check out what our data looks like"
   ]
  },
  {
   "cell_type": "code",
   "execution_count": 3,
   "metadata": {},
   "outputs": [],
   "source": [
    "import pandas\n",
    "import matplotlib\n",
    "from matplotlib import pyplot as plt\n",
    "from scipy.stats import norm\n",
    "import numpy as np\n",
    "import math\n",
    "import random\n",
    "from bs4 import BeautifulSoup"
   ]
  },
  {
   "cell_type": "code",
   "execution_count": 51,
   "metadata": {},
   "outputs": [
    {
     "data": {
      "text/html": [
       "<div>\n",
       "<style scoped>\n",
       "    .dataframe tbody tr th:only-of-type {\n",
       "        vertical-align: middle;\n",
       "    }\n",
       "\n",
       "    .dataframe tbody tr th {\n",
       "        vertical-align: top;\n",
       "    }\n",
       "\n",
       "    .dataframe thead th {\n",
       "        text-align: right;\n",
       "    }\n",
       "</style>\n",
       "<table border=\"1\" class=\"dataframe\">\n",
       "  <thead>\n",
       "    <tr style=\"text-align: right;\">\n",
       "      <th></th>\n",
       "      <th>post_id</th>\n",
       "      <th>post_title</th>\n",
       "      <th>num_comments</th>\n",
       "      <th>post_content</th>\n",
       "      <th>post_url</th>\n",
       "    </tr>\n",
       "  </thead>\n",
       "  <tbody>\n",
       "    <tr>\n",
       "      <th>0</th>\n",
       "      <td>10p0glu</td>\n",
       "      <td>AITA for saying my mother is insensitive for c...</td>\n",
       "      <td>1054</td>\n",
       "      <td>I’m 21F, recently welcomed my own child into t...</td>\n",
       "      <td>https://www.reddit.com/r/AmItheAsshole/comment...</td>\n",
       "    </tr>\n",
       "    <tr>\n",
       "      <th>1</th>\n",
       "      <td>10p55w6</td>\n",
       "      <td>AITA for having my adult daughter pay half of ...</td>\n",
       "      <td>495</td>\n",
       "      <td>I [52F] am having my adult daughter [25F] pay ...</td>\n",
       "      <td>https://www.reddit.com/r/AmItheAsshole/comment...</td>\n",
       "    </tr>\n",
       "    <tr>\n",
       "      <th>2</th>\n",
       "      <td>10pgsmn</td>\n",
       "      <td>AITA for having an 18+ house?</td>\n",
       "      <td>472</td>\n",
       "      <td>My (32f) and my husband (30m) are childfree by...</td>\n",
       "      <td>https://www.reddit.com/r/AmItheAsshole/comment...</td>\n",
       "    </tr>\n",
       "    <tr>\n",
       "      <th>3</th>\n",
       "      <td>10ovk6p</td>\n",
       "      <td>AITA for refusing to take a DNA test to confir...</td>\n",
       "      <td>1366</td>\n",
       "      <td>So my (27M) fiancé (26F) is adopted. She was a...</td>\n",
       "      <td>https://www.reddit.com/r/AmItheAsshole/comment...</td>\n",
       "    </tr>\n",
       "    <tr>\n",
       "      <th>4</th>\n",
       "      <td>10p9z0a</td>\n",
       "      <td>AITA for telling my soon to be SIL that I didn...</td>\n",
       "      <td>109</td>\n",
       "      <td>My brother is getting married in May. My broth...</td>\n",
       "      <td>https://www.reddit.com/r/AmItheAsshole/comment...</td>\n",
       "    </tr>\n",
       "  </tbody>\n",
       "</table>\n",
       "</div>"
      ],
      "text/plain": [
       "   post_id                                         post_title  num_comments  \\\n",
       "0  10p0glu  AITA for saying my mother is insensitive for c...          1054   \n",
       "1  10p55w6  AITA for having my adult daughter pay half of ...           495   \n",
       "2  10pgsmn                      AITA for having an 18+ house?           472   \n",
       "3  10ovk6p  AITA for refusing to take a DNA test to confir...          1366   \n",
       "4  10p9z0a  AITA for telling my soon to be SIL that I didn...           109   \n",
       "\n",
       "                                        post_content  \\\n",
       "0  I’m 21F, recently welcomed my own child into t...   \n",
       "1  I [52F] am having my adult daughter [25F] pay ...   \n",
       "2  My (32f) and my husband (30m) are childfree by...   \n",
       "3  So my (27M) fiancé (26F) is adopted. She was a...   \n",
       "4  My brother is getting married in May. My broth...   \n",
       "\n",
       "                                            post_url  \n",
       "0  https://www.reddit.com/r/AmItheAsshole/comment...  \n",
       "1  https://www.reddit.com/r/AmItheAsshole/comment...  \n",
       "2  https://www.reddit.com/r/AmItheAsshole/comment...  \n",
       "3  https://www.reddit.com/r/AmItheAsshole/comment...  \n",
       "4  https://www.reddit.com/r/AmItheAsshole/comment...  "
      ]
     },
     "execution_count": 51,
     "metadata": {},
     "output_type": "execute_result"
    }
   ],
   "source": [
    "pandas.set_option(\"display.max_colwidth\", 50)\n",
    "posts = None\n",
    "posts = pandas.read_csv('../data/posts_v2_2.csv', names=['post_id', 'post_title', 'num_comments', 'post_content', 'post_url'])\n",
    "posts.head()"
   ]
  },
  {
   "cell_type": "code",
   "execution_count": 52,
   "metadata": {},
   "outputs": [
    {
     "data": {
      "text/html": [
       "<div>\n",
       "<style scoped>\n",
       "    .dataframe tbody tr th:only-of-type {\n",
       "        vertical-align: middle;\n",
       "    }\n",
       "\n",
       "    .dataframe tbody tr th {\n",
       "        vertical-align: top;\n",
       "    }\n",
       "\n",
       "    .dataframe thead th {\n",
       "        text-align: right;\n",
       "    }\n",
       "</style>\n",
       "<table border=\"1\" class=\"dataframe\">\n",
       "  <thead>\n",
       "    <tr style=\"text-align: right;\">\n",
       "      <th></th>\n",
       "      <th>post_id</th>\n",
       "      <th>comment_id</th>\n",
       "      <th>comment_score</th>\n",
       "      <th>comment_content</th>\n",
       "      <th>comment_permalink</th>\n",
       "    </tr>\n",
       "  </thead>\n",
       "  <tbody>\n",
       "    <tr>\n",
       "      <th>0</th>\n",
       "      <td>t3_10p0glu</td>\n",
       "      <td>j6hpif3</td>\n",
       "      <td>9787</td>\n",
       "      <td>YTA  &amp;gt;I know it wasn’t her job to forgive h...</td>\n",
       "      <td>/r/AmItheAsshole/comments/10p0glu/aita_for_say...</td>\n",
       "    </tr>\n",
       "    <tr>\n",
       "      <th>1</th>\n",
       "      <td>t3_10p0glu</td>\n",
       "      <td>j6hpzqy</td>\n",
       "      <td>3137</td>\n",
       "      <td>YTA. Your father abused her. Also, who are you...</td>\n",
       "      <td>/r/AmItheAsshole/comments/10p0glu/aita_for_say...</td>\n",
       "    </tr>\n",
       "    <tr>\n",
       "      <th>2</th>\n",
       "      <td>t3_10p0glu</td>\n",
       "      <td>j6hpkvv</td>\n",
       "      <td>1972</td>\n",
       "      <td>YTA. Your dad was abusive to your mother.   Of...</td>\n",
       "      <td>/r/AmItheAsshole/comments/10p0glu/aita_for_say...</td>\n",
       "    </tr>\n",
       "    <tr>\n",
       "      <th>3</th>\n",
       "      <td>t3_10p0glu</td>\n",
       "      <td>j6hqzyp</td>\n",
       "      <td>1295</td>\n",
       "      <td>Yta so you acknowledge that your dad was abusi...</td>\n",
       "      <td>/r/AmItheAsshole/comments/10p0glu/aita_for_say...</td>\n",
       "    </tr>\n",
       "    <tr>\n",
       "      <th>4</th>\n",
       "      <td>t3_10p0glu</td>\n",
       "      <td>j6hploi</td>\n",
       "      <td>585</td>\n",
       "      <td>YTA   Your dad sounded like an AH. It's unders...</td>\n",
       "      <td>/r/AmItheAsshole/comments/10p0glu/aita_for_say...</td>\n",
       "    </tr>\n",
       "  </tbody>\n",
       "</table>\n",
       "</div>"
      ],
      "text/plain": [
       "      post_id comment_id  comment_score  \\\n",
       "0  t3_10p0glu    j6hpif3           9787   \n",
       "1  t3_10p0glu    j6hpzqy           3137   \n",
       "2  t3_10p0glu    j6hpkvv           1972   \n",
       "3  t3_10p0glu    j6hqzyp           1295   \n",
       "4  t3_10p0glu    j6hploi            585   \n",
       "\n",
       "                                     comment_content  \\\n",
       "0  YTA  &gt;I know it wasn’t her job to forgive h...   \n",
       "1  YTA. Your father abused her. Also, who are you...   \n",
       "2  YTA. Your dad was abusive to your mother.   Of...   \n",
       "3  Yta so you acknowledge that your dad was abusi...   \n",
       "4  YTA   Your dad sounded like an AH. It's unders...   \n",
       "\n",
       "                                   comment_permalink  \n",
       "0  /r/AmItheAsshole/comments/10p0glu/aita_for_say...  \n",
       "1  /r/AmItheAsshole/comments/10p0glu/aita_for_say...  \n",
       "2  /r/AmItheAsshole/comments/10p0glu/aita_for_say...  \n",
       "3  /r/AmItheAsshole/comments/10p0glu/aita_for_say...  \n",
       "4  /r/AmItheAsshole/comments/10p0glu/aita_for_say...  "
      ]
     },
     "execution_count": 52,
     "metadata": {},
     "output_type": "execute_result"
    }
   ],
   "source": [
    "comments = None\n",
    "comments = pandas.read_csv('../data/comments_v2_2.csv', names=['post_id', 'comment_id', 'comment_score', 'comment_content', 'comment_permalink'])\n",
    "comments.head()"
   ]
  },
  {
   "cell_type": "code",
   "execution_count": 60,
   "metadata": {},
   "outputs": [
    {
     "name": "stdout",
     "output_type": "stream",
     "text": [
      " unique post number: 3144 \n",
      " unique comment number: 66903 \n",
      " average comment per post: 21.279580152671755\n"
     ]
    }
   ],
   "source": [
    "posts.drop_duplicates(keep = 'first', inplace=True)\n",
    "post_row_count = posts.shape[0] # returns nb of lines\n",
    "\n",
    "comments.drop_duplicates(keep = 'first', inplace=True)\n",
    "comment_row_count = comments.shape[0] # returns nb of lines\n",
    "print(\"\",\"unique post number:\", post_row_count,\"\\n\", \"unique comment number:\", comment_row_count,\"\\n\", \"average comment per post:\", comment_row_count / post_row_count) \n"
   ]
  },
  {
   "cell_type": "markdown",
   "metadata": {},
   "source": [
    "Lots of duplicates shows my pagination loop probably needs some fixing up"
   ]
  },
  {
   "cell_type": "code",
   "execution_count": 10,
   "metadata": {},
   "outputs": [
    {
     "name": "stdout",
     "output_type": "stream",
     "text": [
      "Range of number of answers on a post = [1 , 7168]\n",
      "Range of comment scores = [-126 , 55462]\n"
     ]
    }
   ],
   "source": [
    "most_answered_post = max(posts['num_comments'])\n",
    "best_rated_comment = max(comments['comment_score'])\n",
    "least_answered_post = min(posts['num_comments'])\n",
    "worst_rated_comment = min(comments['comment_score'])\n",
    "\n",
    "print(\"Range of number of answers on a post =\", \"[\" + str(least_answered_post) + \" , \" + str(most_answered_post) +\"]\")\n",
    "print(\"Range of comment scores =\", \"[\" + str(worst_rated_comment) + \" , \" + str(best_rated_comment) +\"]\")\n"
   ]
  },
  {
   "cell_type": "markdown",
   "metadata": {},
   "source": [
    "Let's try and get some statistical data on posts & comments to get a sense of our dataset quality"
   ]
  },
  {
   "cell_type": "code",
   "execution_count": 11,
   "metadata": {},
   "outputs": [
    {
     "data": {
      "text/plain": [
       "Text(330, 0.001, 'PDF curve')"
      ]
     },
     "execution_count": 11,
     "metadata": {},
     "output_type": "execute_result"
    },
    {
     "data": {
      "image/png": "[encoded data removed]",
      "text/plain": [
       "<Figure size 640x480 with 1 Axes>"
      ]
     },
     "metadata": {},
     "output_type": "display_data"
    }
   ],
   "source": [
    "posts.plot.hist(column=\"num_comments\", bins = 300, density = True, xlim=[0, 2500], ylim = [0, 0.005])\n",
    "\n",
    "mean = posts[\"num_comments\"].mean()\n",
    "plt.axvline(mean, color='red', linestyle='dashed')\n",
    "plt.text(400, .004,'mean=' + str(round(mean)), color='red')\n",
    "\n",
    "median = posts[\"num_comments\"].median()\n",
    "plt.axvline(median, color='yellow', linestyle='dashed')\n",
    "plt.text(150, .003, 'median=' + str(round(median)), color='yellow')\n",
    "\n",
    "# kernel density estimation (KDE) is a non-parametric way to estimate the probability density function (PDF) of a random variable\n",
    "posts[\"num_comments\"].plot.kde()\n",
    "plt.text(330, .001, 'PDF curve', color='orange')\n",
    "\n"
   ]
  },
  {
   "cell_type": "code",
   "execution_count": 12,
   "metadata": {},
   "outputs": [
    {
     "data": {
      "text/plain": [
       "Text(150, 0.003, 'median=17')"
      ]
     },
     "execution_count": 12,
     "metadata": {},
     "output_type": "execute_result"
    },
    {
     "data": {
      "image/png": "[encoded data removed]",
      "text/plain": [
       "<Figure size 640x480 with 1 Axes>"
      ]
     },
     "metadata": {},
     "output_type": "display_data"
    }
   ],
   "source": [
    "comments.plot.hist(column=\"comment_score\", bins = 300, range=[-50, 500], ylim = [0, 2000])\n",
    "mean = comments[\"comment_score\"].mean()\n",
    "plt.axvline(mean, color='red', linestyle='dashed')\n",
    "plt.text(400, .004,'mean=' + str(round(mean)), color='red')\n",
    "median = comments[\"comment_score\"].median()\n",
    "plt.axvline(median, color='yellow', linestyle='dashed')\n",
    "plt.text(150, .003, 'median=' + str(round(median)), color='yellow')\n"
   ]
  },
  {
   "cell_type": "markdown",
   "metadata": {},
   "source": [
    "High mean of comment score may be explained because of very high max values(55462) and good quality comments since they were sorted by top comments"
   ]
  },
  {
   "cell_type": "markdown",
   "metadata": {},
   "source": [
    "### Let's try and clean up our data"
   ]
  },
  {
   "cell_type": "markdown",
   "metadata": {},
   "source": [
    "#### Posts"
   ]
  },
  {
   "cell_type": "code",
   "execution_count": 13,
   "metadata": {
    "scrolled": true
   },
   "outputs": [
    {
     "data": {
      "text/html": [
       "<div>\n",
       "<style scoped>\n",
       "    .dataframe tbody tr th:only-of-type {\n",
       "        vertical-align: middle;\n",
       "    }\n",
       "\n",
       "    .dataframe tbody tr th {\n",
       "        vertical-align: top;\n",
       "    }\n",
       "\n",
       "    .dataframe thead th {\n",
       "        text-align: right;\n",
       "    }\n",
       "</style>\n",
       "<table border=\"1\" class=\"dataframe\">\n",
       "  <thead>\n",
       "    <tr style=\"text-align: right;\">\n",
       "      <th></th>\n",
       "      <th>post_id</th>\n",
       "      <th>post_title</th>\n",
       "      <th>num_comments</th>\n",
       "      <th>post_content</th>\n",
       "      <th>post_url</th>\n",
       "    </tr>\n",
       "  </thead>\n",
       "  <tbody>\n",
       "    <tr>\n",
       "      <th>0</th>\n",
       "      <td>10p0glu</td>\n",
       "      <td>AITA for saying my mother is insensitive for c...</td>\n",
       "      <td>1054</td>\n",
       "      <td>I’m 21F, recently welcomed my own child into t...</td>\n",
       "      <td>https://www.reddit.com/r/AmItheAsshole/comment...</td>\n",
       "    </tr>\n",
       "    <tr>\n",
       "      <th>1</th>\n",
       "      <td>10p55w6</td>\n",
       "      <td>AITA for having my adult daughter pay half of ...</td>\n",
       "      <td>495</td>\n",
       "      <td>I [52F] am having my adult daughter [25F] pay ...</td>\n",
       "      <td>https://www.reddit.com/r/AmItheAsshole/comment...</td>\n",
       "    </tr>\n",
       "    <tr>\n",
       "      <th>2</th>\n",
       "      <td>10pgsmn</td>\n",
       "      <td>AITA for having an 18+ house?</td>\n",
       "      <td>472</td>\n",
       "      <td>My (32f) and my husband (30m) are childfree by...</td>\n",
       "      <td>https://www.reddit.com/r/AmItheAsshole/comment...</td>\n",
       "    </tr>\n",
       "    <tr>\n",
       "      <th>3</th>\n",
       "      <td>10ovk6p</td>\n",
       "      <td>AITA for refusing to take a DNA test to confir...</td>\n",
       "      <td>1366</td>\n",
       "      <td>So my (27M) fiancé (26F) is adopted. She was a...</td>\n",
       "      <td>https://www.reddit.com/r/AmItheAsshole/comment...</td>\n",
       "    </tr>\n",
       "    <tr>\n",
       "      <th>4</th>\n",
       "      <td>10p9z0a</td>\n",
       "      <td>AITA for telling my soon to be SIL that I didn...</td>\n",
       "      <td>109</td>\n",
       "      <td>My brother is getting married in May. My broth...</td>\n",
       "      <td>https://www.reddit.com/r/AmItheAsshole/comment...</td>\n",
       "    </tr>\n",
       "  </tbody>\n",
       "</table>\n",
       "</div>"
      ],
      "text/plain": [
       "   post_id                                         post_title  num_comments  \\\n",
       "0  10p0glu  AITA for saying my mother is insensitive for c...          1054   \n",
       "1  10p55w6  AITA for having my adult daughter pay half of ...           495   \n",
       "2  10pgsmn                      AITA for having an 18+ house?           472   \n",
       "3  10ovk6p  AITA for refusing to take a DNA test to confir...          1366   \n",
       "4  10p9z0a  AITA for telling my soon to be SIL that I didn...           109   \n",
       "\n",
       "                                        post_content  \\\n",
       "0  I’m 21F, recently welcomed my own child into t...   \n",
       "1  I [52F] am having my adult daughter [25F] pay ...   \n",
       "2  My (32f) and my husband (30m) are childfree by...   \n",
       "3  So my (27M) fiancé (26F) is adopted. She was a...   \n",
       "4  My brother is getting married in May. My broth...   \n",
       "\n",
       "                                            post_url  \n",
       "0  https://www.reddit.com/r/AmItheAsshole/comment...  \n",
       "1  https://www.reddit.com/r/AmItheAsshole/comment...  \n",
       "2  https://www.reddit.com/r/AmItheAsshole/comment...  \n",
       "3  https://www.reddit.com/r/AmItheAsshole/comment...  \n",
       "4  https://www.reddit.com/r/AmItheAsshole/comment...  "
      ]
     },
     "execution_count": 13,
     "metadata": {},
     "output_type": "execute_result"
    }
   ],
   "source": [
    "pandas.set_option(\"display.max_colwidth\", 50)\n",
    "posts = pandas.read_csv('../data/posts_v2_2.csv', names=['post_id', 'post_title', 'num_comments', 'post_content', 'post_url'])\n",
    "posts.head()"
   ]
  },
  {
   "cell_type": "markdown",
   "metadata": {},
   "source": [
    "Handling quotes and \\"
   ]
  },
  {
   "cell_type": "code",
   "execution_count": 53,
   "metadata": {},
   "outputs": [],
   "source": [
    "for content in posts['post_content']:\n",
    "    initial_string = content\n",
    "    output_string =\"\"\"{0}\"\"\"\n",
    "    content = output_string"
   ]
  },
  {
   "cell_type": "markdown",
   "metadata": {},
   "source": [
    "Control Check"
   ]
  },
  {
   "cell_type": "code",
   "execution_count": 54,
   "metadata": {},
   "outputs": [
    {
     "name": "stdout",
     "output_type": "stream",
     "text": [
      "I (35f) I lost my father very early when I was 5 years old. A few months after his death, my mother married a guy named \"John\". John already had two teenage boys and he didn't want to raise me because he never wanted to be a girl's father. My mother, like a good mother, abandoned me with my aunt and took my brother (8 by the time) with her to live with her husband. John was a man with a lot of money and he always spoiled my mother and brother, but he never bothered to get me even a Christmas present. My mother didn't do anything for me either, she came to visit me once a month and didn't even call me at Christmas or New Year (I always called, but many times she didn't answer). My aunt was a woman who couldn't have children, because of that she and my uncle raised me as if I were their daughter, not missing anything for me. Even without much money I accumulated some money from my job I had during high school and I earned a small amount from my aunt which was enough for me to pay for my college. At the time I graduated in computer science and went to work in a good company earning a great salary, but eight years ago I received a much better job offer in a large company (One well known for having great Hardware products). In that time, I accumulated a lot of money and helped my uncle and aunt renovate their house and I always sent them a nice amount even if they told me to spend it on myself. I currently live alone in a great apartment with an estimated value in the millions. Recently my mom called me on my Instagram (I post a lot of pictures of trips and fancy places I go, it's not too hard to find me). She asked if we could meet to talk and reevaluate our relationship to forget the past and move forward as mother and daughter. I have a soft heart so I took it, I thought it would be an opportunity for us to talk and finally create the bond I always wanted. We made an appointment at a restaurant downtown and met there. When we got there she hugged me, kissed me on the cheek and said she missed me. We talked about my life and when I asked how hers was going, she started to talk about how bad she was. Apparently she divorced John and my brother didn't want to keep her as she is now poor. To make matters worse, she lives on a pension from John and has serious heart problems. After a while she asked if I could pay for a surgery she needed. The surgery was quite expensive, quite a lot. I told her I wouldn't pay as I wouldn't feel good doing that. She yelled at me in the middle of the restaurant, said I was a terrible daughter and that I was letting her die even though I could pay for her surgery. I left there very embarrassed.When I told my aunt, she said it was my decision but remarked that I have plenty of money to pay and that it wouldn't affect me financially. I don't want to do this cause she never have been a mom to me, but i need to ask. AITA?Edit: English is not my 1° lenguage so maybe i have mispoked something.\n"
     ]
    }
   ],
   "source": [
    "pandas.set_option(\"display.max_colwidth\", 500)\n",
    "print(posts['post_content'][random.randrange(0,100)])"
   ]
  },
  {
   "cell_type": "markdown",
   "metadata": {},
   "source": [
    "#### Comments"
   ]
  },
  {
   "cell_type": "code",
   "execution_count": 28,
   "metadata": {},
   "outputs": [
    {
     "data": {
      "text/html": [
       "<div>\n",
       "<style scoped>\n",
       "    .dataframe tbody tr th:only-of-type {\n",
       "        vertical-align: middle;\n",
       "    }\n",
       "\n",
       "    .dataframe tbody tr th {\n",
       "        vertical-align: top;\n",
       "    }\n",
       "\n",
       "    .dataframe thead th {\n",
       "        text-align: right;\n",
       "    }\n",
       "</style>\n",
       "<table border=\"1\" class=\"dataframe\">\n",
       "  <thead>\n",
       "    <tr style=\"text-align: right;\">\n",
       "      <th></th>\n",
       "      <th>post_id</th>\n",
       "      <th>comment_id</th>\n",
       "      <th>comment_score</th>\n",
       "      <th>comment_content</th>\n",
       "      <th>comment_permalink</th>\n",
       "    </tr>\n",
       "  </thead>\n",
       "  <tbody>\n",
       "    <tr>\n",
       "      <th>0</th>\n",
       "      <td>t3_10p0glu</td>\n",
       "      <td>j6hpif3</td>\n",
       "      <td>9787</td>\n",
       "      <td>YTA  &amp;gt;I know it wasn’t her job to forgive h...</td>\n",
       "      <td>/r/AmItheAsshole/comments/10p0glu/aita_for_say...</td>\n",
       "    </tr>\n",
       "    <tr>\n",
       "      <th>1</th>\n",
       "      <td>t3_10p0glu</td>\n",
       "      <td>j6hpzqy</td>\n",
       "      <td>3137</td>\n",
       "      <td>YTA. Your father abused her. Also, who are you...</td>\n",
       "      <td>/r/AmItheAsshole/comments/10p0glu/aita_for_say...</td>\n",
       "    </tr>\n",
       "    <tr>\n",
       "      <th>2</th>\n",
       "      <td>t3_10p0glu</td>\n",
       "      <td>j6hpkvv</td>\n",
       "      <td>1972</td>\n",
       "      <td>YTA. Your dad was abusive to your mother.   Of...</td>\n",
       "      <td>/r/AmItheAsshole/comments/10p0glu/aita_for_say...</td>\n",
       "    </tr>\n",
       "    <tr>\n",
       "      <th>3</th>\n",
       "      <td>t3_10p0glu</td>\n",
       "      <td>j6hqzyp</td>\n",
       "      <td>1295</td>\n",
       "      <td>Yta so you acknowledge that your dad was abusi...</td>\n",
       "      <td>/r/AmItheAsshole/comments/10p0glu/aita_for_say...</td>\n",
       "    </tr>\n",
       "    <tr>\n",
       "      <th>4</th>\n",
       "      <td>t3_10p0glu</td>\n",
       "      <td>j6hploi</td>\n",
       "      <td>585</td>\n",
       "      <td>YTA   Your dad sounded like an AH. It's unders...</td>\n",
       "      <td>/r/AmItheAsshole/comments/10p0glu/aita_for_say...</td>\n",
       "    </tr>\n",
       "  </tbody>\n",
       "</table>\n",
       "</div>"
      ],
      "text/plain": [
       "      post_id comment_id  comment_score  \\\n",
       "0  t3_10p0glu    j6hpif3           9787   \n",
       "1  t3_10p0glu    j6hpzqy           3137   \n",
       "2  t3_10p0glu    j6hpkvv           1972   \n",
       "3  t3_10p0glu    j6hqzyp           1295   \n",
       "4  t3_10p0glu    j6hploi            585   \n",
       "\n",
       "                                     comment_content  \\\n",
       "0  YTA  &gt;I know it wasn’t her job to forgive h...   \n",
       "1  YTA. Your father abused her. Also, who are you...   \n",
       "2  YTA. Your dad was abusive to your mother.   Of...   \n",
       "3  Yta so you acknowledge that your dad was abusi...   \n",
       "4  YTA   Your dad sounded like an AH. It's unders...   \n",
       "\n",
       "                                   comment_permalink  \n",
       "0  /r/AmItheAsshole/comments/10p0glu/aita_for_say...  \n",
       "1  /r/AmItheAsshole/comments/10p0glu/aita_for_say...  \n",
       "2  /r/AmItheAsshole/comments/10p0glu/aita_for_say...  \n",
       "3  /r/AmItheAsshole/comments/10p0glu/aita_for_say...  \n",
       "4  /r/AmItheAsshole/comments/10p0glu/aita_for_say...  "
      ]
     },
     "execution_count": 28,
     "metadata": {},
     "output_type": "execute_result"
    }
   ],
   "source": [
    "pandas.set_option(\"display.max_colwidth\", 50)\n",
    "comments = pandas.read_csv('../data/comments_v2_2.csv', names=['post_id', 'comment_id', 'comment_score', 'comment_content', 'comment_permalink'])\n",
    "comments.head()"
   ]
  },
  {
   "cell_type": "markdown",
   "metadata": {},
   "source": [
    "Handling html tags & id format"
   ]
  },
  {
   "cell_type": "code",
   "execution_count": 56,
   "metadata": {},
   "outputs": [
    {
     "name": "stdout",
     "output_type": "stream",
     "text": [
      "CPU times: user 34.6 s, sys: 49.7 ms, total: 34.6 s\n",
      "Wall time: 34.7 s\n"
     ]
    }
   ],
   "source": [
    "%%time\n",
    "for content in comments['comment_content']:\n",
    "    clean_content = BeautifulSoup(content, \"html.parser\").text\n",
    "    content = clean_content"
   ]
  },
  {
   "cell_type": "code",
   "execution_count": 57,
   "metadata": {},
   "outputs": [],
   "source": [
    "comments['post_id'] = comments['post_id'].str[3:]"
   ]
  },
  {
   "cell_type": "markdown",
   "metadata": {},
   "source": [
    "Control Check"
   ]
  },
  {
   "cell_type": "code",
   "execution_count": 49,
   "metadata": {},
   "outputs": [
    {
     "name": "stdout",
     "output_type": "stream",
     "text": [
      "YTA and your daughter will probably go lc once she moves out.   Info are you a hoarder? It would take a pretty drastic level of mess to be embarrassed. If she can't bring people to the apartment then I see no reason for her to pay half. Utilities and food, sure but not rent when she's probably crammed into a single room to sleep.\n",
      "YTA and your daughter will probably go lc once she moves out.   Info are you a hoarder? It would take a pretty drastic level of mess to be embarrassed. If she can't bring people to the apartment then I see no reason for her to pay half. Utilities and food, sure but not rent when she's probably crammed into a single room to sleep.\n"
     ]
    }
   ],
   "source": [
    "pandas.set_option(\"display.max_colwidth\", 500)\n",
    "rand = random.randrange(0,100)\n",
    "print(comments['comment_content'][rand])\n",
    "print(BeautifulSoup(comments['comment_content'][rand], \"html.parser\").text)"
   ]
  },
  {
   "cell_type": "code",
   "execution_count": 58,
   "metadata": {},
   "outputs": [
    {
     "name": "stdout",
     "output_type": "stream",
     "text": [
      "10p55w6\n"
     ]
    }
   ],
   "source": [
    "rand = random.randrange(0,100)\n",
    "print(comments['post_id'][rand])"
   ]
  },
  {
   "cell_type": "markdown",
   "metadata": {},
   "source": [
    "### Let's try and join our comments to our posts"
   ]
  },
  {
   "cell_type": "code",
   "execution_count": 72,
   "metadata": {},
   "outputs": [
    {
     "name": "stdout",
     "output_type": "stream",
     "text": [
      "Joining 3144 posts to 66903 comments\n",
      "        post_id  \\\n",
      "0       10p0glu   \n",
      "1       10p0glu   \n",
      "2       10p0glu   \n",
      "3       10p0glu   \n",
      "4       10p0glu   \n",
      "...         ...   \n",
      "636316  10p0etv   \n",
      "636317  10p0etv   \n",
      "636318  10p0etv   \n",
      "636319  10p0etv   \n",
      "636320  10p0etv   \n",
      "\n",
      "                                                                                post_title  \\\n",
      "0       AITA for saying my mother is insensitive for calling her new partner her soulmate?   \n",
      "1       AITA for saying my mother is insensitive for calling her new partner her soulmate?   \n",
      "2       AITA for saying my mother is insensitive for calling her new partner her soulmate?   \n",
      "3       AITA for saying my mother is insensitive for calling her new partner her soulmate?   \n",
      "4       AITA for saying my mother is insensitive for calling her new partner her soulmate?   \n",
      "...                                                                                    ...   \n",
      "636316                                                       AITA for taking back my ring?   \n",
      "636317                                                       AITA for taking back my ring?   \n",
      "636318                                                       AITA for taking back my ring?   \n",
      "636319                                                       AITA for taking back my ring?   \n",
      "636320                                                       AITA for taking back my ring?   \n",
      "\n",
      "                                                                                                                                                                                                                                                                                                                                                                                                                                                                                                               post_content  \\\n",
      "0       I’m 21F, recently welcomed my own child into the world and I’ve been pretty emotional since.My mother always encouraged me to express myself, be independent and got me into things like art and swimming, we were super close. My dad wasn’t amazing towards my mother; he decided who she saw, what she ate and how she dressed but they separated when I was 12, and his behaviour didn’t change how he treated me because he was a great dad…up till I was 16 and he passed away he was still trying to reki...   \n",
      "1       I’m 21F, recently welcomed my own child into the world and I’ve been pretty emotional since.My mother always encouraged me to express myself, be independent and got me into things like art and swimming, we were super close. My dad wasn’t amazing towards my mother; he decided who she saw, what she ate and how she dressed but they separated when I was 12, and his behaviour didn’t change how he treated me because he was a great dad…up till I was 16 and he passed away he was still trying to reki...   \n",
      "2       I’m 21F, recently welcomed my own child into the world and I’ve been pretty emotional since.My mother always encouraged me to express myself, be independent and got me into things like art and swimming, we were super close. My dad wasn’t amazing towards my mother; he decided who she saw, what she ate and how she dressed but they separated when I was 12, and his behaviour didn’t change how he treated me because he was a great dad…up till I was 16 and he passed away he was still trying to reki...   \n",
      "3       I’m 21F, recently welcomed my own child into the world and I’ve been pretty emotional since.My mother always encouraged me to express myself, be independent and got me into things like art and swimming, we were super close. My dad wasn’t amazing towards my mother; he decided who she saw, what she ate and how she dressed but they separated when I was 12, and his behaviour didn’t change how he treated me because he was a great dad…up till I was 16 and he passed away he was still trying to reki...   \n",
      "4       I’m 21F, recently welcomed my own child into the world and I’ve been pretty emotional since.My mother always encouraged me to express myself, be independent and got me into things like art and swimming, we were super close. My dad wasn’t amazing towards my mother; he decided who she saw, what she ate and how she dressed but they separated when I was 12, and his behaviour didn’t change how he treated me because he was a great dad…up till I was 16 and he passed away he was still trying to reki...   \n",
      "...                                                                                                                                                                                                                                                                                                                                                                                                                                                                                                                     ...   \n",
      "636316  So this is a pretty low-stakes argument but me (f26)and my sister (f24) are at an impasse. When we were kids we inherited a ring each from our great-grandmother. I don’t know anything about jewellery terms/designs, but mine has five oval rubies in a row, and my sisters was one solitaire. Since then they haven’t ever really been worn, to the point that I often forgot they existed. Occasionally they came out and we tried them on for fun, but they’re expensive enough we weren’t allowed to wear ...   \n",
      "636317  So this is a pretty low-stakes argument but me (f26)and my sister (f24) are at an impasse. When we were kids we inherited a ring each from our great-grandmother. I don’t know anything about jewellery terms/designs, but mine has five oval rubies in a row, and my sisters was one solitaire. Since then they haven’t ever really been worn, to the point that I often forgot they existed. Occasionally they came out and we tried them on for fun, but they’re expensive enough we weren’t allowed to wear ...   \n",
      "636318  So this is a pretty low-stakes argument but me (f26)and my sister (f24) are at an impasse. When we were kids we inherited a ring each from our great-grandmother. I don’t know anything about jewellery terms/designs, but mine has five oval rubies in a row, and my sisters was one solitaire. Since then they haven’t ever really been worn, to the point that I often forgot they existed. Occasionally they came out and we tried them on for fun, but they’re expensive enough we weren’t allowed to wear ...   \n",
      "636319  So this is a pretty low-stakes argument but me (f26)and my sister (f24) are at an impasse. When we were kids we inherited a ring each from our great-grandmother. I don’t know anything about jewellery terms/designs, but mine has five oval rubies in a row, and my sisters was one solitaire. Since then they haven’t ever really been worn, to the point that I often forgot they existed. Occasionally they came out and we tried them on for fun, but they’re expensive enough we weren’t allowed to wear ...   \n",
      "636320  So this is a pretty low-stakes argument but me (f26)and my sister (f24) are at an impasse. When we were kids we inherited a ring each from our great-grandmother. I don’t know anything about jewellery terms/designs, but mine has five oval rubies in a row, and my sisters was one solitaire. Since then they haven’t ever really been worn, to the point that I often forgot they existed. Occasionally they came out and we tried them on for fun, but they’re expensive enough we weren’t allowed to wear ...   \n",
      "\n",
      "       comment_id  comment_score  \\\n",
      "0         j6hpif3           9787   \n",
      "1         j6hpzqy           3137   \n",
      "2         j6hpkvv           1972   \n",
      "3         j6hqzyp           1295   \n",
      "4         j6hploi            585   \n",
      "...           ...            ...   \n",
      "636316    j6hq3cp            968   \n",
      "636317    j6hq3cp            974   \n",
      "636318    j6hqrhg            218   \n",
      "636319    j6hq79p             69   \n",
      "636320    j6iwg3m             13   \n",
      "\n",
      "                                                                                                                                                                                                                                                                                                                                                                                                                                                                                                            comment_content  \n",
      "0       YTA  &gt;I know it wasn’t her job to forgive him but my dad fully believed she was his soulmate, and up till his death he was apologising and trying to get better for her.  So your Mom is supposed to just forget that your Dad treated her like the pile of dog shit he had the misfortune of stepping in just because your Dad finally got his act together?  &gt;I would’ve accepted it, but  You either accept your Mom as she is or you don't - It's not your place to put conditions on \"I'll accept you...  \n",
      "1                                                                                                                                                                                                                                                                                                                                                                       YTA. Your father abused her. Also, who are you to dictate who's someone soul mate? I wonder where you get these controlling tendencies from? Hmmmmm  \n",
      "2                                                                                                                                                                                                                                                                                                                                                                                                                         YTA. Your dad was abusive to your mother.   Of course she’s not going to see him as her soulmate.  \n",
      "3                                                                                                                                Yta so you acknowledge that your dad was abusive  to your mother  but you're bitter that she finally found someone who truly makes her happy? The heck is your problem? Let me tell you something she doesn't owe your dad sh*t okay? She is happy now has found her soulmate and if you can't be happy for her then that's too bad for you but you don't get to make her feel bad for it.  \n",
      "4       YTA   Your dad sounded like an AH. It's understandable that he wasn't her soulmate, considering he treated her like crap. I'm surprised she resisted all those years with him, she probably did it for you. She was probably afraid that your dad would manipulate you. Which he did, with all the \"i'm trying to be better for her, but she won't take mw back\", therefore laying the blame at her feet,  instead of admitting his own fault and more importantly, to not put you in the middle of their proble...  \n",
      "...                                                                                                                                                                                                                                                                                                                                                                                                                                                                                                                     ...  \n",
      "636316                                                                                                                                                                                                                                                                                                                                                NTA  It’s your ring and your property. She took it without asking and was using it regularly. It’s okay to be disturbed or not liking it when people use your things,  \n",
      "636317                                                                                                                                                                                                                                                                                                                                                NTA  It’s your ring and your property. She took it without asking and was using it regularly. It’s okay to be disturbed or not liking it when people use your things,  \n",
      "636318                                                                                                                                                                                                                                              NTA. It's *your* ring. You're not taking it to be petty, you're taking it to wear. (And I *do not* trust sis not to be pulling a stealth theft here, where it'll be \"just a few weeks\" for several years and then \"well I've had it so long and you didn't mind......\")  \n",
      "636319                                                                                                                                                                                                                                                                                                                                                                                                                                                                            NtA. It is your ring. Dont give it to her  \n",
      "636320                                                                                                                                                                                                                                                          NTA, my mom and sister used to do this, borrow my stuff and then because I didn’t ask for it back soon enough they’d play the “well you don’t even want it/you don’t wear it” etc it doesn’t matter it’s mine.  It was very annoying as a teen to deal with  \n",
      "\n",
      "[636321 rows x 6 columns]\n"
     ]
    }
   ],
   "source": [
    "df = None\n",
    "\n",
    "print(\"Joining\", posts['post_id'].count(), \"posts\", 'to' , comments['comment_id'].count(), \"comments\")\n",
    "\n",
    "df = posts.merge(comments, left_on='post_id', right_on='post_id', how='left')\n",
    "df_light = df.drop(['comment_permalink', 'num_comments', 'post_url'], axis=1)  # axis 1 = column\n",
    "\n",
    "print(df_light)"
   ]
  },
  {
   "cell_type": "code",
   "execution_count": null,
   "metadata": {},
   "outputs": [],
   "source": [
    "\n",
    "    \n",
    "    "
   ]
  },
  {
   "cell_type": "code",
   "execution_count": null,
   "metadata": {},
   "outputs": [],
   "source": []
  }
 ],
 "metadata": {
  "kernelspec": {
   "display_name": "Python 3 (ipykernel)",
   "language": "python",
   "name": "python3"
  },
  "language_info": {
   "codemirror_mode": {
    "name": "ipython",
    "version": 3
   },
   "file_extension": ".py",
   "mimetype": "text/x-python",
   "name": "python",
   "nbconvert_exporter": "python",
   "pygments_lexer": "ipython3",
   "version": "3.9.7"
  },
  "vscode": {
   "interpreter": {
    "hash": "e4530e3f7a479c29f561e0bf57c489d52367e70e1e013d439943acccd42ec1e9"
   }
  }
 },
 "nbformat": 4,
 "nbformat_minor": 2
}
